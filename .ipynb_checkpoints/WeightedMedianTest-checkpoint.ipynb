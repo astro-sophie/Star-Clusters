{
 "cells": [
  {
   "cell_type": "code",
   "execution_count": 1,
   "id": "b8b08a78-7bf1-4bcf-9b6b-d6919f3dca3a",
   "metadata": {},
   "outputs": [
    {
     "name": "stderr",
     "output_type": "stream",
     "text": [
      "/home/sophieclark/.local/lib/python3.10/site-packages/astroquery/ipac/irsa/sha/__init__.py:14: UserWarning: The upstream SHA API has been changed resulting this module to be broken. Please use the main IRSA module to access Spitzer data.\n",
      "  warnings.warn(\"The upstream SHA API has been changed resulting this module to be broken. \"\n"
     ]
    }
   ],
   "source": [
    "import pandas as pd\n",
    "import csv\n",
    "from matplotlib import pyplot as plt\n",
    "from matplotlib import patches\n",
    "import numpy as np\n",
    "import glob\n",
    "import statistics\n",
    "import scipy\n",
    "from mpl_toolkits import mplot3d\n",
    "from astroquery import gaia\n",
    "import astropy.units as u\n",
    "from astropy.coordinates.sky_coordinate import SkyCoord\n",
    "from astropy.units import Quantity\n",
    "from astroquery.gaia import Gaia\n",
    "from astropy import table\n",
    "from astropy.io.votable import parse\n",
    "from scipy.stats import norm\n",
    "from scipy.stats import powerlaw\n",
    "from scipy.interpolate import interp1d\n",
    "from scipy.optimize import curve_fit\n",
    "from scipy.optimize import least_squares\n",
    "import math\n",
    "import seaborn as sns\n",
    "from astroquery.ipac.irsa import sha\n",
    "from astropy import coordinates as coord\n",
    "from astroquery.ipac.irsa import Irsa\n",
    "import numpy.ma as ma\n",
    "from scipy.stats import norm\n",
    "import statistics\n",
    "import scipy.stats as ss\n",
    "from astropy.table import Table\n",
    "from astroquery.vizier import Vizier\n",
    "plt.style.use('seaborn-v0_8-paper')\n",
    "Irsa.ROW_LIMIT = 40000\n",
    "Gaia.ROW_LIMIT = 60000\n",
    "Vizier.ROW_LIMIT = 60000"
   ]
  },
  {
   "cell_type": "code",
   "execution_count": 27,
   "id": "1976e254-c8e7-408a-a011-30ff2c5e8beb",
   "metadata": {},
   "outputs": [
    {
     "name": "stdout",
     "output_type": "stream",
     "text": [
      "INFO: Query finished. [astroquery.utils.tap.core]\n"
     ]
    }
   ],
   "source": [
    "ori_ra = 83.84650099334792\n",
    "ori_dec = -4.838358713609504\n",
    "\n",
    "coord = SkyCoord(ra=ori_ra, dec=ori_dec, unit=(u.degree, u.degree), frame='icrs') \n",
    "j = Gaia.cone_search_async(coord, radius=u.Quantity(14, u.arcmin))\n",
    "r = j.get_results()\n",
    "dictionary = {}\n",
    "for name in r.colnames:\n",
    "    dictionary[str(name)] = r[str(name)]\n",
    "gaia_alldistances = pd.DataFrame(data=dictionary)\n",
    "dataframe = gaia_alldistances.dropna(subset=['parallax'])"
   ]
  },
  {
   "cell_type": "code",
   "execution_count": 48,
   "id": "f6287740-4bcf-4f4f-8db4-219309aaa456",
   "metadata": {
    "scrolled": true
   },
   "outputs": [
    {
     "ename": "TypeError",
     "evalue": "'numpy.float64' object is not callable",
     "output_type": "error",
     "traceback": [
      "\u001b[0;31m---------------------------------------------------------------------------\u001b[0m",
      "\u001b[0;31mTypeError\u001b[0m                                 Traceback (most recent call last)",
      "Cell \u001b[0;32mIn[48], line 2\u001b[0m\n\u001b[1;32m      1\u001b[0m \u001b[38;5;28;01mfrom\u001b[39;00m \u001b[38;5;21;01mweightedmedian\u001b[39;00m \u001b[38;5;28;01mimport\u001b[39;00m \u001b[38;5;241m*\u001b[39m\n\u001b[0;32m----> 2\u001b[0m \u001b[43mweighted_median\u001b[49m\u001b[43m(\u001b[49m\u001b[43mdataframe\u001b[49m\u001b[43m[\u001b[49m\u001b[38;5;124;43m'\u001b[39;49m\u001b[38;5;124;43mparallax\u001b[39;49m\u001b[38;5;124;43m'\u001b[39;49m\u001b[43m]\u001b[49m\u001b[43m,\u001b[49m\u001b[43m \u001b[49m\u001b[43mdataframe\u001b[49m\u001b[43m[\u001b[49m\u001b[38;5;124;43m'\u001b[39;49m\u001b[38;5;124;43mparallax_error\u001b[39;49m\u001b[38;5;124;43m'\u001b[39;49m\u001b[43m]\u001b[49m\u001b[43m)\u001b[49m\n",
      "\u001b[0;31mTypeError\u001b[0m: 'numpy.float64' object is not callable"
     ]
    }
   ],
   "source": [
    "from weightedmedian import *\n",
    "weighted_median(dataframe['parallax'], dataframe['parallax_error'])"
   ]
  },
  {
   "cell_type": "code",
   "execution_count": 41,
   "id": "bac3fba9-3571-4bee-94b4-b50b7f2f597b",
   "metadata": {},
   "outputs": [],
   "source": [
    "values = np.array(dataframe['parallax'])\n",
    "weights = 1/((np.array(dataframe['parallax_error']))**2)\n",
    "sort_indices = np.argsort(values)\n",
    "sorted_values = values[sort_indices]\n",
    "sorted_weights = weights[sort_indices]\n",
    "cumsum = sorted_weights.cumsum()\n",
    "cutoff = sorted_weights.sum() / 2.\n",
    "weighted_median = sorted_values[cumsum >= cutoff][0]"
   ]
  },
  {
   "cell_type": "code",
   "execution_count": 42,
   "id": "60412e1c-c606-461b-91fc-b50d8fe500ff",
   "metadata": {},
   "outputs": [
    {
     "data": {
      "text/plain": [
       "391.99385631726335"
      ]
     },
     "execution_count": 42,
     "metadata": {},
     "output_type": "execute_result"
    }
   ],
   "source": [
    "1/(weighted_median*1e-3)"
   ]
  },
  {
   "cell_type": "code",
   "execution_count": null,
   "id": "ee5d861a-e59b-467b-9510-59e6a8c2c4de",
   "metadata": {},
   "outputs": [],
   "source": []
  }
 ],
 "metadata": {
  "kernelspec": {
   "display_name": "Python 3 (ipykernel)",
   "language": "python",
   "name": "python3"
  },
  "language_info": {
   "codemirror_mode": {
    "name": "ipython",
    "version": 3
   },
   "file_extension": ".py",
   "mimetype": "text/x-python",
   "name": "python",
   "nbconvert_exporter": "python",
   "pygments_lexer": "ipython3",
   "version": "3.10.12"
  }
 },
 "nbformat": 4,
 "nbformat_minor": 5
}
