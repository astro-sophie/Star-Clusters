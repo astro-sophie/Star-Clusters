{
 "cells": [
  {
   "cell_type": "code",
   "execution_count": 181,
   "id": "5afee538",
   "metadata": {},
   "outputs": [],
   "source": [
    "# imports\n",
    "import numpy as np\n",
    "import pandas as pd\n",
    "import math\n",
    "import astropy.units as u\n",
    "from astropy.coordinates.sky_coordinate import SkyCoord\n",
    "from astroquery.vizier import Vizier\n",
    "\n",
    "df = pd.read_csv(\"filename.csv\") #change to desired filename or replace with dataframe name\n",
    "twomass_matches = []\n",
    "for i in range(0, len(df)):\n",
    "    result = Vizier(columns=[\"**\"], catalog=\"II/246\").query_region(SkyCoord(ra=df['ra'][i], dec=df['dec'][i],\n",
    "                                                                             unit=(u.deg, u.deg)), radius='10s')\n",
    "    if len(result) == 0:\n",
    "        values = [np.nan for i in range(0, 62)]\n",
    "        twomass_matches.append(values)\n",
    "    else:\n",
    "        result = result[0]\n",
    "        if len(result) == 1:\n",
    "            values = [result[colname][0] for colname in result.columns]\n",
    "            twomass_matches.append(values)\n",
    "        else:\n",
    "            diffs = [(((df['ra'][1]-result['RAJ2000'][j])**2)+(df['dec'][i]-result['DEJ2000'][j])**2) for j in range(0, len(result))]\n",
    "            index = diffs.index(min(diffs))\n",
    "            values = [result[colname][index] for colname in result.columns]\n",
    "            twomass_matches.append(values)\n",
    "result = Vizier(columns=[\"**\"], catalog=\"II/246\").query_region(SkyCoord(ra=df['Ra'][0], dec=df['Dec'][0],unit=(u.deg, u.deg)), radius='10s')\n",
    "colnames = result[0].colnames\n",
    "for i in range(0, len(colnames)):\n",
    "    values = [twomass_matches[j][i] for j in range(0, len(twomass_matches))]\n",
    "    df[colnames[i]] = values\n",
    "print(df)\n",
    "#df.to_csv(\"\") #insert desired filename to download as csv"
   ]
  }
 ],
 "metadata": {
  "kernelspec": {
   "display_name": "Python 3 (ipykernel)",
   "language": "python",
   "name": "python3"
  },
  "language_info": {
   "codemirror_mode": {
    "name": "ipython",
    "version": 3
   },
   "file_extension": ".py",
   "mimetype": "text/x-python",
   "name": "python",
   "nbconvert_exporter": "python",
   "pygments_lexer": "ipython3",
   "version": "3.11.3"
  }
 },
 "nbformat": 4,
 "nbformat_minor": 5
}
