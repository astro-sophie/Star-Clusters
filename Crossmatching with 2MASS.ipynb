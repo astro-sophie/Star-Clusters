{
 "cells": [
  {
   "cell_type": "code",
   "execution_count": 3,
   "id": "5afee538",
   "metadata": {},
   "outputs": [],
   "source": [
    "# imports\n",
    "import numpy as np\n",
    "import pandas as pd\n",
    "import math\n",
    "import astropy.units as u\n",
    "from astropy.coordinates.sky_coordinate import SkyCoord\n",
    "from astroquery.vizier import Vizier\n",
    "\n",
    "df = pd.read_csv(\"filename.csv\") #change to desired filename or replace with dataframe name\n",
    "twomass_matches = []\n",
    "for i in range(0, len(df)):\n",
    "    result = Vizier(columns=[\"**\"], catalog=\"II/246\").query_region(SkyCoord(ra=df['ra'][i], dec=df['dec'][i],\n",
    "                                                                             unit=(u.deg, u.deg)), radius='10s')\n",
    "    if len(result) == 0:\n",
    "        values = [np.nan for i in range(0, 62)]\n",
    "        twomass_matches.append(values)\n",
    "    else:\n",
    "        result = result[0]\n",
    "        if len(result) == 1:\n",
    "            values = [result[colname][0] for colname in result.columns]\n",
    "            twomass_matches.append(values)\n",
    "        else:\n",
    "            diffs = [(((df['ra'][1]-result['RAJ2000'][j])**2)+(df['dec'][i]-result['DEJ2000'][j])**2) for j in range(0, len(result))]\n",
    "            index = diffs.index(min(diffs))\n",
    "            values = [result[colname][index] for colname in result.columns]\n",
    "            twomass_matches.append(values)\n",
    "result = Vizier(columns=[\"**\"], catalog=\"II/246\").query_region(SkyCoord(ra=df['Ra'][0], dec=df['Dec'][0],unit=(u.deg, u.deg)), radius='10s')\n",
    "colnames = result[0].colnames\n",
    "for i in range(0, len(colnames)):\n",
    "    values = [twomass_matches[j][i] for j in range(0, len(twomass_matches))]\n",
    "    df[colnames[i]] = values\n",
    "print(df)\n",
    "#df.to_csv(\"\") #insert desired filename to download as csv"
   ]
  },
  {
   "cell_type": "code",
   "execution_count": 6,
   "id": "40887419",
   "metadata": {},
   "outputs": [
    {
     "data": {
      "text/html": [
       "<div><i>Table length=50</i>\n",
       "<table id=\"table2605172750992\" class=\"table-striped table-bordered table-condensed\">\n",
       "<thead><tr><th>_r</th><th>RAJ2000</th><th>DEJ2000</th><th>errMaj</th><th>errMin</th><th>errPA</th><th>_2MASS</th><th>Jmag</th><th>Jcmsig</th><th>e_Jmag</th><th>Jsnr</th><th>Hmag</th><th>Hcmsig</th><th>e_Hmag</th><th>Hsnr</th><th>Kmag</th><th>Kcmsig</th><th>e_Kmag</th><th>Ksnr</th><th>Qflg</th><th>Rflg</th><th>Bflg</th><th>Cflg</th><th>Ndet</th><th>prox</th><th>pxPA</th><th>pxCntr</th><th>Xflg</th><th>Aflg</th><th>Cntr</th><th>Hemis</th><th>Date</th><th>Scan</th><th>GLON</th><th>GLAT</th><th>Xscan</th><th>_tab1_36</th><th>Jpsfchi</th><th>Hpsfchi</th><th>Kpsfchi</th><th>Jstdap</th><th>e_Jstdap</th><th>Hstdap</th><th>e_Hstdap</th><th>Kstdap</th><th>e_Kstdap</th><th>edgeNS</th><th>edgeEW</th><th>edge</th><th>dup</th><th>use</th><th>opt</th><th>Dopt</th><th>PAopt</th><th>Bmag</th><th>Rmag</th><th>Nopt</th><th>extKey</th><th>scanKey</th><th>coaddKey</th><th>coadd</th><th>Opt</th></tr></thead>\n",
       "<thead><tr><th></th><th>deg</th><th>deg</th><th>arcsec</th><th>arcsec</th><th>deg</th><th></th><th>mag</th><th>mag</th><th>mag</th><th></th><th>mag</th><th>mag</th><th>mag</th><th></th><th>mag</th><th>mag</th><th>mag</th><th></th><th></th><th></th><th></th><th></th><th></th><th>arcsec</th><th>deg</th><th></th><th></th><th></th><th></th><th></th><th></th><th></th><th>deg</th><th>deg</th><th>arcsec</th><th>d</th><th></th><th></th><th></th><th>mag</th><th>mag</th><th>mag</th><th>mag</th><th>mag</th><th>mag</th><th>arcsec</th><th>arcsec</th><th></th><th></th><th></th><th></th><th>arcsec</th><th>deg</th><th>mag</th><th>mag</th><th></th><th></th><th></th><th></th><th></th><th></th></tr></thead>\n",
       "<thead><tr><th>float64</th><th>float64</th><th>float64</th><th>float32</th><th>float32</th><th>int16</th><th>str17</th><th>float32</th><th>float32</th><th>float32</th><th>float64</th><th>float32</th><th>float32</th><th>float32</th><th>float64</th><th>float32</th><th>float32</th><th>float32</th><th>float64</th><th>str3</th><th>str3</th><th>str3</th><th>str3</th><th>str6</th><th>float32</th><th>int16</th><th>int64</th><th>uint8</th><th>uint8</th><th>int32</th><th>str1</th><th>str10</th><th>int16</th><th>float64</th><th>float64</th><th>float32</th><th>float64</th><th>float32</th><th>float32</th><th>float32</th><th>float32</th><th>float32</th><th>float32</th><th>float32</th><th>float32</th><th>float32</th><th>int32</th><th>int16</th><th>str2</th><th>uint8</th><th>uint8</th><th>str1</th><th>float32</th><th>int16</th><th>float32</th><th>float32</th><th>uint8</th><th>int32</th><th>int32</th><th>int32</th><th>int16</th><th>str3</th></tr></thead>\n",
       "<tr><td>0.490758</td><td>67.365093</td><td>34.809280</td><td>0.09</td><td>0.08</td><td>4</td><td>04292762+3448334</td><td>15.792</td><td>0.068</td><td>0.070</td><td>16.8</td><td>15.505</td><td>0.108</td><td>0.108</td><td>10.0</td><td>15.421</td><td>0.161</td><td>0.161</td><td>6.6</td><td>AAC</td><td>222</td><td>111</td><td>000</td><td>460505</td><td>22.5</td><td>316</td><td>837515625</td><td>0</td><td>0</td><td>837515635</td><td>n</td><td>1999-11-26</td><td>118</td><td>165.593</td><td>-9.438</td><td>-169.1</td><td>2451508.9017</td><td>0.99</td><td>0.94</td><td>1.30</td><td>14.157</td><td>1.708</td><td>15.692</td><td>0.311</td><td>16.034</td><td>0.932</td><td>4305</td><td>84</td><td>ne</td><td>0</td><td>1</td><td>U</td><td>0.1</td><td>261</td><td>18.90</td><td>17.40</td><td>1</td><td>--</td><td>45439</td><td>1045079</td><td>56</td><td>Opt</td></tr>\n",
       "<tr><td>0.493863</td><td>67.372128</td><td>34.804070</td><td>0.07</td><td>0.06</td><td>0</td><td>04292931+3448146</td><td>13.627</td><td>0.022</td><td>0.026</td><td>123.5</td><td>13.201</td><td>0.030</td><td>0.031</td><td>83.9</td><td>13.045</td><td>0.026</td><td>0.028</td><td>58.7</td><td>AAA</td><td>222</td><td>111</td><td>000</td><td>665566</td><td>25.3</td><td>173</td><td>837515674</td><td>0</td><td>0</td><td>837515648</td><td>n</td><td>1999-11-26</td><td>118</td><td>165.600</td><td>-9.437</td><td>-189.9</td><td>2451508.9017</td><td>1.02</td><td>1.04</td><td>1.35</td><td>13.624</td><td>0.014</td><td>13.138</td><td>0.024</td><td>13.083</td><td>0.047</td><td>4324</td><td>63</td><td>ne</td><td>1</td><td>1</td><td>U</td><td>0.4</td><td>155</td><td>16.70</td><td>15.40</td><td>1</td><td>--</td><td>45439</td><td>1045079</td><td>56</td><td>Opt</td></tr>\n",
       "<tr><td>0.498287</td><td>67.360649</td><td>34.802574</td><td>0.08</td><td>0.07</td><td>4</td><td>04292655+3448092</td><td>15.500</td><td>0.055</td><td>0.056</td><td>22.0</td><td>15.027</td><td>0.079</td><td>0.080</td><td>15.6</td><td>15.024</td><td>0.108</td><td>0.108</td><td>9.5</td><td>AAB</td><td>222</td><td>111</td><td>000</td><td>461606</td><td>27.5</td><td>29</td><td>837515635</td><td>0</td><td>0</td><td>837515652</td><td>n</td><td>1999-11-26</td><td>118</td><td>165.595</td><td>-9.445</td><td>-156.0</td><td>2451508.9017</td><td>1.58</td><td>1.02</td><td>0.86</td><td>15.465</td><td>0.132</td><td>15.009</td><td>0.312</td><td>14.969</td><td>0.134</td><td>4329</td><td>97</td><td>ne</td><td>0</td><td>1</td><td>U</td><td>0.3</td><td>188</td><td>18.20</td><td>17.30</td><td>1</td><td>--</td><td>45439</td><td>1045079</td><td>56</td><td>Opt</td></tr>\n",
       "<tr><td>0.497548</td><td>67.337514</td><td>34.810371</td><td>0.27</td><td>0.25</td><td>164</td><td>04292100+3448373</td><td>16.781</td><td>0.149</td><td>0.149</td><td>6.8</td><td>16.176</td><td>0.182</td><td>0.182</td><td>5.4</td><td>15.782</td><td>0.220</td><td>0.220</td><td>4.7</td><td>CCD</td><td>222</td><td>111</td><td>0c0</td><td>060606</td><td>20.6</td><td>347</td><td>837515620</td><td>0</td><td>0</td><td>837515633</td><td>n</td><td>1999-11-26</td><td>118</td><td>165.576</td><td>-9.454</td><td>-87.6</td><td>2451508.9017</td><td>0.90</td><td>1.42</td><td>0.64</td><td>16.774</td><td>0.276</td><td>16.168</td><td>0.517</td><td>15.853</td><td>0.247</td><td>4301</td><td>165</td><td>ne</td><td>0</td><td>1</td><td>0</td><td>--</td><td>--</td><td>--</td><td>--</td><td>0</td><td>--</td><td>45439</td><td>1045079</td><td>56</td><td>Opt</td></tr>\n",
       "<tr><td>0.484281</td><td>67.436402</td><td>34.799763</td><td>0.06</td><td>0.06</td><td>90</td><td>04294473+3447591</td><td>15.138</td><td>0.036</td><td>0.038</td><td>36.5</td><td>14.434</td><td>0.041</td><td>0.042</td><td>29.9</td><td>14.293</td><td>0.067</td><td>0.067</td><td>17.4</td><td>AAA</td><td>222</td><td>111</td><td>000</td><td>664446</td><td>9.9</td><td>10</td><td>194570815</td><td>0</td><td>0</td><td>194570826</td><td>n</td><td>1998-01-28</td><td>7</td><td>165.640</td><td>-9.401</td><td>41.3</td><td>2450841.6563</td><td>0.88</td><td>1.01</td><td>0.81</td><td>15.229</td><td>0.058</td><td>14.449</td><td>0.129</td><td>14.228</td><td>0.106</td><td>4347</td><td>210</td><td>nw</td><td>0</td><td>1</td><td>U</td><td>0.3</td><td>168</td><td>19.00</td><td>17.20</td><td>1</td><td>--</td><td>11872</td><td>273038</td><td>56</td><td>Opt</td></tr>\n",
       "<tr><td>0.481532</td><td>67.436991</td><td>34.802471</td><td>0.07</td><td>0.07</td><td>90</td><td>04294487+3448088</td><td>15.145</td><td>0.035</td><td>0.037</td><td>36.3</td><td>14.746</td><td>0.051</td><td>0.052</td><td>22.4</td><td>14.579</td><td>0.085</td><td>0.086</td><td>13.3</td><td>AAA</td><td>222</td><td>111</td><td>000</td><td>663506</td><td>9.9</td><td>190</td><td>194570826</td><td>0</td><td>0</td><td>194570815</td><td>n</td><td>1998-01-28</td><td>7</td><td>165.638</td><td>-9.399</td><td>39.6</td><td>2450841.6563</td><td>1.22</td><td>0.91</td><td>0.80</td><td>15.131</td><td>0.055</td><td>14.962</td><td>0.144</td><td>14.732</td><td>0.149</td><td>4337</td><td>212</td><td>nw</td><td>0</td><td>1</td><td>U</td><td>0.2</td><td>140</td><td>18.00</td><td>16.70</td><td>1</td><td>--</td><td>11872</td><td>273038</td><td>56</td><td>Opt</td></tr>\n",
       "<tr><td>0.485727</td><td>67.427428</td><td>34.799911</td><td>0.21</td><td>0.21</td><td>45</td><td>04294258+3447596</td><td>16.773</td><td>0.139</td><td>0.139</td><td>8.1</td><td>16.024</td><td>0.155</td><td>0.156</td><td>6.9</td><td>14.886</td><td>--</td><td>--</td><td>--</td><td>BCU</td><td>220</td><td>110</td><td>000</td><td>060500</td><td>4.8</td><td>307</td><td>194570822</td><td>0</td><td>0</td><td>194570824</td><td>n</td><td>1998-01-28</td><td>7</td><td>165.635</td><td>-9.407</td><td>67.9</td><td>2450841.6563</td><td>1.07</td><td>1.24</td><td>--</td><td>17.124</td><td>0.351</td><td>15.911</td><td>0.146</td><td>--</td><td>--</td><td>4346</td><td>184</td><td>nw</td><td>0</td><td>1</td><td>0</td><td>--</td><td>--</td><td>--</td><td>--</td><td>0</td><td>--</td><td>11872</td><td>273038</td><td>56</td><td>Opt</td></tr>\n",
       "<tr><td>0.483451</td><td>67.429894</td><td>34.801785</td><td>0.07</td><td>0.07</td><td>90</td><td>04294317+3448064</td><td>15.526</td><td>0.046</td><td>0.048</td><td>25.5</td><td>15.131</td><td>0.072</td><td>0.072</td><td>15.7</td><td>15.007</td><td>0.118</td><td>0.118</td><td>9.0</td><td>AAB</td><td>222</td><td>111</td><td>000</td><td>563606</td><td>6.5</td><td>34</td><td>194570811</td><td>0</td><td>0</td><td>194570818</td><td>n</td><td>1998-01-28</td><td>7</td><td>165.635</td><td>-9.404</td><td>60.6</td><td>2450841.6563</td><td>0.93</td><td>1.11</td><td>1.36</td><td>15.502</td><td>0.111</td><td>14.954</td><td>0.105</td><td>15.104</td><td>0.280</td><td>4340</td><td>191</td><td>nw</td><td>0</td><td>1</td><td>U</td><td>0.4</td><td>151</td><td>18.50</td><td>16.90</td><td>1</td><td>--</td><td>11872</td><td>273038</td><td>56</td><td>Opt</td></tr>\n",
       "<tr><td>0.481759</td><td>67.431132</td><td>34.803291</td><td>0.06</td><td>0.06</td><td>90</td><td>04294347+3448118</td><td>15.036</td><td>0.040</td><td>0.042</td><td>40.1</td><td>14.308</td><td>0.041</td><td>0.042</td><td>33.6</td><td>14.198</td><td>0.059</td><td>0.060</td><td>18.9</td><td>AAA</td><td>222</td><td>111</td><td>000</td><td>666626</td><td>6.5</td><td>214</td><td>194570818</td><td>0</td><td>0</td><td>194570811</td><td>n</td><td>1998-01-28</td><td>7</td><td>165.634</td><td>-9.402</td><td>56.9</td><td>2450841.6563</td><td>1.18</td><td>1.40</td><td>1.09</td><td>15.086</td><td>0.062</td><td>14.339</td><td>0.049</td><td>14.433</td><td>0.178</td><td>4334</td><td>195</td><td>nw</td><td>0</td><td>1</td><td>U</td><td>0.3</td><td>151</td><td>18.70</td><td>17.00</td><td>1</td><td>--</td><td>11872</td><td>273038</td><td>56</td><td>Opt</td></tr>\n",
       "<tr><td>...</td><td>...</td><td>...</td><td>...</td><td>...</td><td>...</td><td>...</td><td>...</td><td>...</td><td>...</td><td>...</td><td>...</td><td>...</td><td>...</td><td>...</td><td>...</td><td>...</td><td>...</td><td>...</td><td>...</td><td>...</td><td>...</td><td>...</td><td>...</td><td>...</td><td>...</td><td>...</td><td>...</td><td>...</td><td>...</td><td>...</td><td>...</td><td>...</td><td>...</td><td>...</td><td>...</td><td>...</td><td>...</td><td>...</td><td>...</td><td>...</td><td>...</td><td>...</td><td>...</td><td>...</td><td>...</td><td>...</td><td>...</td><td>...</td><td>...</td><td>...</td><td>...</td><td>...</td><td>...</td><td>...</td><td>...</td><td>...</td><td>...</td><td>...</td><td>...</td><td>...</td><td>...</td></tr>\n",
       "<tr><td>0.495065</td><td>67.440692</td><td>34.788021</td><td>0.06</td><td>0.06</td><td>90</td><td>04294576+3447168</td><td>13.284</td><td>0.019</td><td>0.023</td><td>201.3</td><td>12.536</td><td>0.022</td><td>0.023</td><td>171.6</td><td>12.308</td><td>0.019</td><td>0.021</td><td>108.0</td><td>AAA</td><td>222</td><td>111</td><td>000</td><td>664455</td><td>14.8</td><td>206</td><td>194570872</td><td>0</td><td>0</td><td>194570861</td><td>n</td><td>1998-01-28</td><td>7</td><td>165.651</td><td>-9.407</td><td>28.6</td><td>2450841.6563</td><td>1.09</td><td>1.59</td><td>1.42</td><td>13.290</td><td>0.012</td><td>12.541</td><td>0.026</td><td>12.327</td><td>0.028</td><td>4389</td><td>223</td><td>nw</td><td>0</td><td>1</td><td>U</td><td>0.3</td><td>230</td><td>17.20</td><td>15.70</td><td>1</td><td>--</td><td>11872</td><td>273038</td><td>56</td><td>Opt</td></tr>\n",
       "<tr><td>0.499057</td><td>67.438534</td><td>34.784306</td><td>0.06</td><td>0.06</td><td>90</td><td>04294524+3447035</td><td>13.087</td><td>0.023</td><td>0.026</td><td>241.3</td><td>12.458</td><td>0.022</td><td>0.023</td><td>184.4</td><td>12.210</td><td>0.022</td><td>0.023</td><td>118.2</td><td>AAA</td><td>222</td><td>111</td><td>000</td><td>666666</td><td>5.9</td><td>203</td><td>194570877</td><td>0</td><td>0</td><td>194570872</td><td>n</td><td>1998-01-28</td><td>7</td><td>165.653</td><td>-9.411</td><td>35.0</td><td>2450841.6563</td><td>0.99</td><td>0.77</td><td>1.48</td><td>13.073</td><td>0.016</td><td>12.466</td><td>0.023</td><td>12.203</td><td>0.019</td><td>4402</td><td>216</td><td>nw</td><td>0</td><td>1</td><td>0</td><td>--</td><td>--</td><td>--</td><td>--</td><td>1</td><td>--</td><td>11872</td><td>273038</td><td>56</td><td>Opt</td></tr>\n",
       "<tr><td>0.477984</td><td>67.445779</td><td>34.804604</td><td>0.23</td><td>0.21</td><td>93</td><td>04294698+3448165</td><td>16.204</td><td>0.087</td><td>0.088</td><td>13.7</td><td>15.597</td><td>0.115</td><td>0.115</td><td>10.2</td><td>15.325</td><td>0.157</td><td>0.157</td><td>6.7</td><td>ABC</td><td>222</td><td>111</td><td>000</td><td>260606</td><td>27.1</td><td>254</td><td>194570815</td><td>0</td><td>0</td><td>194570807</td><td>n</td><td>1998-01-28</td><td>7</td><td>165.642</td><td>-9.393</td><td>13.6</td><td>2450841.6563</td><td>1.19</td><td>0.73</td><td>1.30</td><td>15.980</td><td>0.137</td><td>15.307</td><td>0.105</td><td>15.246</td><td>0.180</td><td>4329</td><td>238</td><td>nw</td><td>0</td><td>1</td><td>U</td><td>0.9</td><td>198</td><td>19.50</td><td>18.10</td><td>1</td><td>--</td><td>11872</td><td>273038</td><td>56</td><td>Opt</td></tr>\n",
       "<tr><td>0.482306</td><td>67.463822</td><td>34.797512</td><td>0.20</td><td>0.20</td><td>135</td><td>04295131+3447510</td><td>16.254</td><td>0.086</td><td>0.087</td><td>13.1</td><td>15.698</td><td>0.116</td><td>0.116</td><td>9.3</td><td>15.253</td><td>0.147</td><td>0.147</td><td>7.2</td><td>ABB</td><td>222</td><td>111</td><td>000</td><td>060604</td><td>15.6</td><td>69</td><td>194570828</td><td>0</td><td>0</td><td>194570831</td><td>n</td><td>1998-01-28</td><td>7</td><td>165.657</td><td>-9.386</td><td>-39.7</td><td>2450841.6563</td><td>0.85</td><td>0.75</td><td>1.33</td><td>16.541</td><td>0.136</td><td>15.604</td><td>0.177</td><td>14.991</td><td>0.212</td><td>4354</td><td>211</td><td>ne</td><td>0</td><td>1</td><td>0</td><td>--</td><td>--</td><td>--</td><td>--</td><td>0</td><td>--</td><td>11872</td><td>273038</td><td>56</td><td>Opt</td></tr>\n",
       "<tr><td>0.493705</td><td>67.464092</td><td>34.785927</td><td>0.06</td><td>0.06</td><td>90</td><td>04295138+3447093</td><td>14.631</td><td>0.028</td><td>0.031</td><td>58.2</td><td>14.059</td><td>0.033</td><td>0.034</td><td>42.2</td><td>13.907</td><td>0.046</td><td>0.047</td><td>24.8</td><td>AAA</td><td>222</td><td>111</td><td>000</td><td>666666</td><td>19.3</td><td>220</td><td>194570880</td><td>0</td><td>0</td><td>194570866</td><td>n</td><td>1998-01-28</td><td>7</td><td>165.666</td><td>-9.394</td><td>-40.6</td><td>2450841.6563</td><td>1.22</td><td>1.02</td><td>0.96</td><td>14.661</td><td>0.045</td><td>14.078</td><td>0.106</td><td>13.927</td><td>0.059</td><td>4396</td><td>210</td><td>ne</td><td>0</td><td>1</td><td>U</td><td>0.4</td><td>188</td><td>18.40</td><td>16.90</td><td>1</td><td>--</td><td>11872</td><td>273038</td><td>56</td><td>Opt</td></tr>\n",
       "<tr><td>0.477950</td><td>67.465243</td><td>34.801735</td><td>0.07</td><td>0.07</td><td>90</td><td>04295165+3448062</td><td>15.540</td><td>0.046</td><td>0.048</td><td>25.2</td><td>14.902</td><td>0.062</td><td>0.063</td><td>19.4</td><td>14.635</td><td>0.091</td><td>0.092</td><td>12.7</td><td>AAA</td><td>222</td><td>111</td><td>000</td><td>564525</td><td>14.1</td><td>133</td><td>194570828</td><td>0</td><td>0</td><td>194570819</td><td>n</td><td>1998-01-28</td><td>7</td><td>165.655</td><td>-9.383</td><td>-43.9</td><td>2450841.6563</td><td>0.97</td><td>1.25</td><td>0.96</td><td>15.629</td><td>0.105</td><td>14.759</td><td>0.106</td><td>14.379</td><td>0.174</td><td>4339</td><td>207</td><td>ne</td><td>0</td><td>1</td><td>0</td><td>--</td><td>--</td><td>--</td><td>--</td><td>0</td><td>463720</td><td>11872</td><td>273038</td><td>56</td><td>Opt</td></tr>\n",
       "<tr><td>0.497906</td><td>67.525862</td><td>34.776211</td><td>0.33</td><td>0.33</td><td>43</td><td>04300620+3446343</td><td>16.654</td><td>0.121</td><td>0.122</td><td>8.7</td><td>16.550</td><td>0.261</td><td>0.261</td><td>4.3</td><td>16.473</td><td>--</td><td>--</td><td>--</td><td>BDU</td><td>220</td><td>110</td><td>000</td><td>060600</td><td>28.3</td><td>111</td><td>194596855</td><td>0</td><td>0</td><td>194596863</td><td>n</td><td>1998-01-28</td><td>8</td><td>165.708</td><td>-9.363</td><td>191.4</td><td>2450841.6663</td><td>1.17</td><td>1.03</td><td>--</td><td>16.986</td><td>0.102</td><td>16.845</td><td>0.375</td><td>--</td><td>--</td><td>4425</td><td>59</td><td>nw</td><td>1</td><td>1</td><td>U</td><td>0.8</td><td>184</td><td>19.30</td><td>18.60</td><td>1</td><td>--</td><td>11873</td><td>273075</td><td>220</td><td>Opt</td></tr>\n",
       "<tr><td>0.484988</td><td>67.530617</td><td>34.788940</td><td>0.08</td><td>0.08</td><td>17</td><td>04300734+3447201</td><td>15.685</td><td>0.058</td><td>0.059</td><td>21.3</td><td>15.224</td><td>0.072</td><td>0.073</td><td>14.4</td><td>15.103</td><td>0.134</td><td>0.134</td><td>8.2</td><td>AAB</td><td>222</td><td>111</td><td>000</td><td>661606</td><td>14.7</td><td>120</td><td>194596892</td><td>0</td><td>0</td><td>194596900</td><td>n</td><td>1998-01-28</td><td>8</td><td>165.701</td><td>-9.352</td><td>177.4</td><td>2450841.6663</td><td>0.92</td><td>1.25</td><td>1.10</td><td>15.627</td><td>0.036</td><td>15.297</td><td>0.159</td><td>14.982</td><td>0.253</td><td>4379</td><td>73</td><td>nw</td><td>1</td><td>1</td><td>U</td><td>0.1</td><td>250</td><td>18.60</td><td>17.70</td><td>1</td><td>--</td><td>11873</td><td>273075</td><td>220</td><td>Opt</td></tr>\n",
       "<tr><td>0.481415</td><td>67.527946</td><td>34.792633</td><td>0.26</td><td>0.24</td><td>90</td><td>04300670+3447334</td><td>16.319</td><td>0.098</td><td>0.099</td><td>11.9</td><td>15.926</td><td>0.145</td><td>0.145</td><td>7.6</td><td>15.495</td><td>0.194</td><td>0.195</td><td>5.7</td><td>ABC</td><td>222</td><td>111</td><td>000</td><td>061505</td><td>15.5</td><td>149</td><td>194596900</td><td>0</td><td>0</td><td>194596910</td><td>n</td><td>1998-01-28</td><td>8</td><td>165.697</td><td>-9.351</td><td>185.2</td><td>2450841.6663</td><td>1.07</td><td>1.14</td><td>0.95</td><td>16.378</td><td>0.211</td><td>16.216</td><td>0.651</td><td>15.598</td><td>0.527</td><td>4365</td><td>65</td><td>nw</td><td>1</td><td>1</td><td>U</td><td>0.7</td><td>164</td><td>19.40</td><td>18.10</td><td>1</td><td>--</td><td>11873</td><td>273075</td><td>220</td><td>Opt</td></tr>\n",
       "<tr><td>0.475989</td><td>67.527980</td><td>34.798065</td><td>0.06</td><td>0.06</td><td>0</td><td>04300671+3447530</td><td>12.782</td><td>0.017</td><td>0.021</td><td>308.8</td><td>12.381</td><td>0.015</td><td>0.018</td><td>197.9</td><td>12.257</td><td>0.021</td><td>0.023</td><td>113.1</td><td>AAA</td><td>222</td><td>111</td><td>000</td><td>666666</td><td>15.4</td><td>335</td><td>194596938</td><td>0</td><td>0</td><td>194596922</td><td>n</td><td>1998-01-28</td><td>8</td><td>165.693</td><td>-9.347</td><td>185.1</td><td>2450841.6663</td><td>1.04</td><td>1.39</td><td>1.41</td><td>12.798</td><td>0.012</td><td>12.389</td><td>0.019</td><td>12.246</td><td>0.010</td><td>4346</td><td>66</td><td>nw</td><td>1</td><td>1</td><td>U</td><td>0.6</td><td>120</td><td>16.00</td><td>14.50</td><td>1</td><td>--</td><td>11873</td><td>273075</td><td>220</td><td>Opt</td></tr>\n",
       "</table></div>"
      ],
      "text/plain": [
       "<Table length=50>\n",
       "   _r     RAJ2000    DEJ2000    errMaj  errMin ... scanKey coaddKey coadd Opt \n",
       "            deg        deg      arcsec  arcsec ...                            \n",
       "float64   float64    float64   float32 float32 ...  int32   int32   int16 str3\n",
       "-------- ---------- ---------- ------- ------- ... ------- -------- ----- ----\n",
       "0.490758  67.365093  34.809280    0.09    0.08 ...   45439  1045079    56  Opt\n",
       "0.493863  67.372128  34.804070    0.07    0.06 ...   45439  1045079    56  Opt\n",
       "0.498287  67.360649  34.802574    0.08    0.07 ...   45439  1045079    56  Opt\n",
       "0.497548  67.337514  34.810371    0.27    0.25 ...   45439  1045079    56  Opt\n",
       "0.484281  67.436402  34.799763    0.06    0.06 ...   11872   273038    56  Opt\n",
       "0.481532  67.436991  34.802471    0.07    0.07 ...   11872   273038    56  Opt\n",
       "0.485727  67.427428  34.799911    0.21    0.21 ...   11872   273038    56  Opt\n",
       "0.483451  67.429894  34.801785    0.07    0.07 ...   11872   273038    56  Opt\n",
       "0.481759  67.431132  34.803291    0.06    0.06 ...   11872   273038    56  Opt\n",
       "     ...        ...        ...     ...     ... ...     ...      ...   ...  ...\n",
       "0.495065  67.440692  34.788021    0.06    0.06 ...   11872   273038    56  Opt\n",
       "0.499057  67.438534  34.784306    0.06    0.06 ...   11872   273038    56  Opt\n",
       "0.477984  67.445779  34.804604    0.23    0.21 ...   11872   273038    56  Opt\n",
       "0.482306  67.463822  34.797512    0.20    0.20 ...   11872   273038    56  Opt\n",
       "0.493705  67.464092  34.785927    0.06    0.06 ...   11872   273038    56  Opt\n",
       "0.477950  67.465243  34.801735    0.07    0.07 ...   11872   273038    56  Opt\n",
       "0.497906  67.525862  34.776211    0.33    0.33 ...   11873   273075   220  Opt\n",
       "0.484988  67.530617  34.788940    0.08    0.08 ...   11873   273075   220  Opt\n",
       "0.481415  67.527946  34.792633    0.26    0.24 ...   11873   273075   220  Opt\n",
       "0.475989  67.527980  34.798065    0.06    0.06 ...   11873   273075   220  Opt"
      ]
     },
     "execution_count": 6,
     "metadata": {},
     "output_type": "execute_result"
    }
   ],
   "source": [
    "result = Vizier(columns=[\"**\"], catalog=\"II/246\").query_region(SkyCoord(ra=67.56014826, dec=35.27332867,\n",
    "                                                                             unit=(u.deg, u.deg)), radius='0.5 deg')\n",
    "result[0]"
   ]
  },
  {
   "cell_type": "code",
   "execution_count": null,
   "id": "c20f5753",
   "metadata": {},
   "outputs": [],
   "source": []
  }
 ],
 "metadata": {
  "kernelspec": {
   "display_name": "Python 3 (ipykernel)",
   "language": "python",
   "name": "python3"
  },
  "language_info": {
   "codemirror_mode": {
    "name": "ipython",
    "version": 3
   },
   "file_extension": ".py",
   "mimetype": "text/x-python",
   "name": "python",
   "nbconvert_exporter": "python",
   "pygments_lexer": "ipython3",
   "version": "3.11.3"
  }
 },
 "nbformat": 4,
 "nbformat_minor": 5
}
